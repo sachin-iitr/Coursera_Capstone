{
 "cells": [
  {
   "cell_type": "code",
   "execution_count": 1,
   "metadata": {},
   "outputs": [],
   "source": [
    "# import all the libraries\n",
    "from bs4 import BeautifulSoup\n",
    "import requests\n",
    "import pandas as pd\n",
    "import numpy as np"
   ]
  },
  {
   "cell_type": "code",
   "execution_count": 2,
   "metadata": {},
   "outputs": [],
   "source": [
    "# get source code for the wiki page\n",
    "source = requests.get(\"https://en.wikipedia.org/wiki/List_of_postal_codes_of_Canada:_M\").text"
   ]
  },
  {
   "cell_type": "code",
   "execution_count": 3,
   "metadata": {},
   "outputs": [],
   "source": [
    "# creating a BeautifulSoup object for the source page\n",
    "soup = BeautifulSoup(\n",
    "    source,\n",
    "    \"lxml\"\n",
    ")"
   ]
  },
  {
   "cell_type": "code",
   "execution_count": 4,
   "metadata": {},
   "outputs": [],
   "source": [
    "# pulling the table content\n",
    "table = soup.find(\n",
    "    \"body\"\n",
    ").find(\n",
    "    \"div\",\n",
    "    class_=\"mw-body\"\n",
    ").find(\n",
    "    \"div\",\n",
    "    class_=\"mw-body-content\",\n",
    "    id=\"bodyContent\"\n",
    ").table.tbody"
   ]
  },
  {
   "cell_type": "code",
   "execution_count": 5,
   "metadata": {},
   "outputs": [],
   "source": [
    "# append all values of the table into a list\n",
    "all_postcodes = []\n",
    "\n",
    "for i in table.find_all(\"tr\"):\n",
    "    k = []\n",
    "    for j in i.find_all(\"td\"):\n",
    "        k.append(j.text)\n",
    "    all_postcodes.append(k)"
   ]
  },
  {
   "cell_type": "code",
   "execution_count": 6,
   "metadata": {},
   "outputs": [],
   "source": [
    "labels = [\"Postcode\",\"Borough\",\"Neighbourhood\"]"
   ]
  },
  {
   "cell_type": "code",
   "execution_count": 7,
   "metadata": {},
   "outputs": [],
   "source": [
    "# creating dataframe\n",
    "df = pd.DataFrame.from_records(all_postcodes,columns=labels).dropna()"
   ]
  },
  {
   "cell_type": "code",
   "execution_count": 8,
   "metadata": {},
   "outputs": [],
   "source": [
    "# remove records where Borough is not assigned\n",
    "df = df[(df[\"Borough\"]!=\"Not assigned\")]"
   ]
  },
  {
   "cell_type": "code",
   "execution_count": 9,
   "metadata": {},
   "outputs": [],
   "source": [
    "# removing /n value from the Neighbourhood column\n",
    "df.Neighbourhood = df.Neighbourhood.str.slice(0,-1)"
   ]
  },
  {
   "cell_type": "code",
   "execution_count": 10,
   "metadata": {},
   "outputs": [],
   "source": [
    "# assign borough to neighbourhood where neighbourhood is not assigned\n",
    "df.Neighbourhood = np.where(\n",
    "    df[\"Neighbourhood\"]==\"Not assigned\", \n",
    "    df[\"Borough\"], \n",
    "    df[\"Neighbourhood\"]\n",
    ")"
   ]
  },
  {
   "cell_type": "code",
   "execution_count": 11,
   "metadata": {},
   "outputs": [],
   "source": [
    "# dropping any duplicates\n",
    "df = df.drop_duplicates()"
   ]
  },
  {
   "cell_type": "code",
   "execution_count": 12,
   "metadata": {},
   "outputs": [],
   "source": [
    "# grouping by postcode and borough and concatenating the neighbourhood value\n",
    "grouped_df = df.groupby(\n",
    "    [\"Postcode\",\"Borough\"]\n",
    ")[\"Neighbourhood\"].apply(lambda x: \"%s\" % ', '.join(x)).reset_index()"
   ]
  },
  {
   "cell_type": "code",
   "execution_count": 13,
   "metadata": {},
   "outputs": [
    {
     "data": {
      "text/plain": [
       "(103, 3)"
      ]
     },
     "execution_count": 13,
     "metadata": {},
     "output_type": "execute_result"
    }
   ],
   "source": [
    "# shape of grouped neighbourhood dataframe\n",
    "grouped_df.shape"
   ]
  }
 ],
 "metadata": {
  "kernelspec": {
   "display_name": "Python 3",
   "language": "python",
   "name": "python3"
  },
  "language_info": {
   "codemirror_mode": {
    "name": "ipython",
    "version": 3
   },
   "file_extension": ".py",
   "mimetype": "text/x-python",
   "name": "python",
   "nbconvert_exporter": "python",
   "pygments_lexer": "ipython3",
   "version": "3.7.1"
  }
 },
 "nbformat": 4,
 "nbformat_minor": 2
}
